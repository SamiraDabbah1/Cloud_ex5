{
  "nbformat": 4,
  "nbformat_minor": 0,
  "metadata": {
    "colab": {
      "provenance": [],
      "authorship_tag": "ABX9TyPDZW76g6O8aZNq35PzylKP",
      "include_colab_link": true
    },
    "kernelspec": {
      "name": "python3",
      "display_name": "Python 3"
    },
    "language_info": {
      "name": "python"
    }
  },
  "cells": [
    {
      "cell_type": "markdown",
      "metadata": {
        "id": "view-in-github",
        "colab_type": "text"
      },
      "source": [
        "<a href=\"https://colab.research.google.com/github/SamiraDabbah1/Cloud_ex5/blob/main/ex5Firebase.ipynb\" target=\"_parent\"><img src=\"https://colab.research.google.com/assets/colab-badge.svg\" alt=\"Open In Colab\"/></a>"
      ]
    },
    {
      "cell_type": "code",
      "source": [
        "!pip install firebase"
      ],
      "metadata": {
        "colab": {
          "base_uri": "https://localhost:8080/"
        },
        "id": "xd3_KwK35Kvy",
        "outputId": "c6cf7e72-e72d-485a-fdd6-2de648604455"
      },
      "execution_count": 11,
      "outputs": [
        {
          "output_type": "stream",
          "name": "stdout",
          "text": [
            "Requirement already satisfied: firebase in /usr/local/lib/python3.10/dist-packages (4.0.1)\n",
            "Requirement already satisfied: requests in /usr/local/lib/python3.10/dist-packages (from firebase) (2.31.0)\n",
            "Requirement already satisfied: charset-normalizer<4,>=2 in /usr/local/lib/python3.10/dist-packages (from requests->firebase) (3.3.2)\n",
            "Requirement already satisfied: idna<4,>=2.5 in /usr/local/lib/python3.10/dist-packages (from requests->firebase) (3.6)\n",
            "Requirement already satisfied: urllib3<3,>=1.21.1 in /usr/local/lib/python3.10/dist-packages (from requests->firebase) (2.0.7)\n",
            "Requirement already satisfied: certifi>=2017.4.17 in /usr/local/lib/python3.10/dist-packages (from requests->firebase) (2024.2.2)\n"
          ]
        }
      ]
    },
    {
      "cell_type": "code",
      "source": [
        "from firebase import firebase\n",
        "\n",
        "# Initialize Firebase connection\n",
        "FBconn = firebase.FirebaseApplication('https://cloudex5-8cf6c-default-rtdb.firebaseio.com/', None)\n",
        "\n",
        "# List of student data\n",
        "students_data = [\n",
        "    {\n",
        "        \"First Name\": \"Reema\",\n",
        "        \"Last Name\": \"Nasr\",\n",
        "        \"Email\": \"Reema.nasr@braude.ac.il\",\n",
        "        \"Courses\": [\n",
        "            \"Web Development\",\n",
        "            \"Data Mining\",\n",
        "            \"Operating Systems\"\n",
        "        ],\n",
        "        \"Favorite Program\": \"web\"\n",
        "    },\n",
        "    {\n",
        "        \"First Name\": \"Samira\",\n",
        "        \"Last Name\": \"Dabbah\",\n",
        "        \"Email\": \"samira.dabbah@braude.ac.il\",\n",
        "        \"Courses\": [\n",
        "            \"Web Development\",\n",
        "            \"Data Mining\",\n",
        "            \"Operating Systems\"\n",
        "        ],\n",
        "        \"Favorite Program\": \"Operating Systems\"\n",
        "    },\n",
        "   {\n",
        "        \"First Name\": \"Shorok\",\n",
        "        \"Last Name\": \"Heeb\",\n",
        "        \"Email\": \"shorok.heeb@braude.ac.il\",\n",
        "        \"Courses\": [\n",
        "            \"Web Development\",\n",
        "            \"Data Mining\",\n",
        "            \"Operating Systems\"\n",
        "        ],\n",
        "        \"Favorite Program\": \"Operating Systems\"\n",
        "    },\n",
        "\n",
        "       {\n",
        "        \"First Name\": \"Marysoul\",\n",
        "        \"Last Name\": \"Karawany\",\n",
        "        \"Email\": \"Marysoul.Karawany@braude.ac.il\",\n",
        "        \"Courses\": [\n",
        "            \"Web Development\",\n",
        "            \"Data Mining\",\n",
        "            \"Operating Systems\"\n",
        "        ],\n",
        "        \"Favorite Program\": \"Operating Systems\"\n",
        "    }\n",
        "\n",
        "]\n",
        "\n",
        "# Upload student data to Firebase\n",
        "for student_data in students_data:\n",
        "    result = FBconn.post('/myTest3/', student_data)\n",
        "    print(result)\n",
        "\n"
      ],
      "metadata": {
        "colab": {
          "base_uri": "https://localhost:8080/"
        },
        "id": "CX_mzSNI5SEE",
        "outputId": "1e1b34d4-c84a-4063-8691-6581f92b7d15"
      },
      "execution_count": 12,
      "outputs": [
        {
          "output_type": "stream",
          "name": "stdout",
          "text": [
            "{'name': '-Nqavi8NGQfMDSCLqL6C'}\n",
            "{'name': '-NqaviAJijVdT5cvHPJN'}\n",
            "{'name': '-NqaviCImlkUtXw6R8Nd'}\n",
            "{'name': '-NqaviEES2fFHy5noS1Y'}\n"
          ]
        }
      ]
    },
    {
      "cell_type": "code",
      "source": [
        "import json\n",
        "from firebase import firebase\n",
        "FBconn = firebase.FirebaseApplication('https://cloudex5-8cf6c-default-rtdb.firebaseio.com/',None)\n",
        "res=FBconn.get('/myTest3/',None)\n",
        "\n",
        "for key in res:\n",
        "    print(key+\":\\t\", res[key])\n",
        "\n"
      ],
      "metadata": {
        "colab": {
          "base_uri": "https://localhost:8080/"
        },
        "id": "3nLm3Zd65d1N",
        "outputId": "aa507d13-947d-443c-fc53-57fdb69ae272"
      },
      "execution_count": 13,
      "outputs": [
        {
          "output_type": "stream",
          "name": "stdout",
          "text": [
            "-Nqati3VPxIfXBXbHgEm:\t {'Courses': ['Web Development', 'Data Mining', 'Operating Systems'], 'Email': 'Reema.nasr@braude.ac.il', 'Favorite Program': 'web', 'First Name': 'Reema', 'Last Name': 'Nasr'}\n",
            "-Nqati5bCfFHyLJ95j0x:\t {'Courses': ['Web Development', 'Data Mining', 'Operating Systems'], 'Email': 'samira.dabbah@braude.ac.il', 'Favorite Program': 'Operating Systems', 'First Name': 'Samira', 'Last Name': 'Dabbah'}\n",
            "-Nqavi8NGQfMDSCLqL6C:\t {'Courses': ['Web Development', 'Data Mining', 'Operating Systems'], 'Email': 'Reema.nasr@braude.ac.il', 'Favorite Program': 'web', 'First Name': 'Reema', 'Last Name': 'Nasr'}\n",
            "-NqaviAJijVdT5cvHPJN:\t {'Courses': ['Web Development', 'Data Mining', 'Operating Systems'], 'Email': 'samira.dabbah@braude.ac.il', 'Favorite Program': 'Operating Systems', 'First Name': 'Samira', 'Last Name': 'Dabbah'}\n",
            "-NqaviCImlkUtXw6R8Nd:\t {'Courses': ['Web Development', 'Data Mining', 'Operating Systems'], 'Email': 'shorok.heeb@braude.ac.il', 'Favorite Program': 'Operating Systems', 'First Name': 'Shorok', 'Last Name': 'Heeb'}\n",
            "-NqaviEES2fFHy5noS1Y:\t {'Courses': ['Web Development', 'Data Mining', 'Operating Systems'], 'Email': 'Marysoul.Karawany@braude.ac.il', 'Favorite Program': 'Operating Systems', 'First Name': 'Marysoul', 'Last Name': 'Karawany'}\n"
          ]
        }
      ]
    },
    {
      "cell_type": "code",
      "source": [],
      "metadata": {
        "id": "M8X3W9Yy-q_i"
      },
      "execution_count": null,
      "outputs": []
    },
    {
      "cell_type": "code",
      "source": [],
      "metadata": {
        "id": "RZdpuXKz5gx1"
      },
      "execution_count": 13,
      "outputs": []
    }
  ]
}